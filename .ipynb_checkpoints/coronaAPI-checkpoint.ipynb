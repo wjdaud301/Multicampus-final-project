{
 "cells": [
  {
   "cell_type": "markdown",
   "id": "7bed7400-5e8a-4379-9239-cda270eb474e",
   "metadata": {},
   "source": [
    "## 코로나 API"
   ]
  },
  {
   "cell_type": "code",
   "execution_count": 16,
   "id": "f588d4a3-116b-4e07-8f13-5988d1fa7b22",
   "metadata": {},
   "outputs": [],
   "source": [
    "import pyarrow\n",
    "import requests\n",
    "import xmltodict\n",
    "import time\n",
    "import pandas as pd\n",
    "import re\n",
    "from datetime import datetime\n",
    "import warnings\n",
    "warnings.filterwarnings('ignore')\n",
    "\n",
    "from pymongo import MongoClient\n",
    "from pyspark.conf import SparkConf\n",
    "from pyspark.sql import SparkSession\n",
    "from pyspark.sql.types import StructType,StructField, StringType, IntegerType\n",
    "import pyspark.sql.functions as f"
   ]
  },
  {
   "cell_type": "code",
   "execution_count": 136,
   "id": "d343623b",
   "metadata": {},
   "outputs": [],
   "source": [
    "# coronaAPI = spark.read.parquet(\"hdfs://localhost:9000/data/corona\")"
   ]
  },
  {
   "cell_type": "code",
   "execution_count": 137,
   "id": "b46b4407",
   "metadata": {},
   "outputs": [],
   "source": [
    "url_decide_base = \"http://openapi.data.go.kr/openapi/service/rest/Covid19/getCovid19InfStateJson\"\n",
    "url_decide_serviceKey = \"S8%2Ftx%2BhEP7bZDZI%2By0P1ZKvPuHpx%2BVUKpt6ay8faxnxR%2FTRO9M5UAy8%2BafhJBNVzQG%2Fgwoym2S4Xbe1dUXivUw%3D%3D\""
   ]
  },
  {
   "cell_type": "code",
   "execution_count": 138,
   "id": "8d4dee78",
   "metadata": {},
   "outputs": [
    {
     "data": {
      "text/html": [
       "<div>\n",
       "<style scoped>\n",
       "    .dataframe tbody tr th:only-of-type {\n",
       "        vertical-align: middle;\n",
       "    }\n",
       "\n",
       "    .dataframe tbody tr th {\n",
       "        vertical-align: top;\n",
       "    }\n",
       "\n",
       "    .dataframe thead th {\n",
       "        text-align: right;\n",
       "    }\n",
       "</style>\n",
       "<table border=\"1\" class=\"dataframe\">\n",
       "  <thead>\n",
       "    <tr style=\"text-align: right;\">\n",
       "      <th></th>\n",
       "      <th>날짜</th>\n",
       "      <th>당일확진자수</th>\n",
       "      <th>검사진행수</th>\n",
       "      <th>누적확진자수</th>\n",
       "      <th>누적사망자수</th>\n",
       "      <th>누적격리해제수</th>\n",
       "      <th>치료중환자수</th>\n",
       "      <th>누적확진률</th>\n",
       "      <th>누적검사수</th>\n",
       "      <th>누적검사완료수</th>\n",
       "    </tr>\n",
       "  </thead>\n",
       "  <tbody>\n",
       "    <tr>\n",
       "      <th>0</th>\n",
       "      <td>2021-09-28</td>\n",
       "      <td>2883</td>\n",
       "      <td>1137617</td>\n",
       "      <td>308725</td>\n",
       "      <td>2474</td>\n",
       "      <td>272724</td>\n",
       "      <td>33527</td>\n",
       "      <td>2.312955</td>\n",
       "      <td>14485260</td>\n",
       "      <td>13347643</td>\n",
       "    </tr>\n",
       "    <tr>\n",
       "      <th>1</th>\n",
       "      <td>2021-09-27</td>\n",
       "      <td>2289</td>\n",
       "      <td>1135394</td>\n",
       "      <td>305842</td>\n",
       "      <td>2464</td>\n",
       "      <td>270928</td>\n",
       "      <td>32450</td>\n",
       "      <td>2.301263</td>\n",
       "      <td>14425573</td>\n",
       "      <td>13290179</td>\n",
       "    </tr>\n",
       "    <tr>\n",
       "      <th>2</th>\n",
       "      <td>2021-09-26</td>\n",
       "      <td>2381</td>\n",
       "      <td>1120111</td>\n",
       "      <td>303553</td>\n",
       "      <td>2456</td>\n",
       "      <td>269132</td>\n",
       "      <td>31965</td>\n",
       "      <td>2.291688</td>\n",
       "      <td>14365935</td>\n",
       "      <td>13245824</td>\n",
       "    </tr>\n",
       "    <tr>\n",
       "      <th>3</th>\n",
       "      <td>2021-09-25</td>\n",
       "      <td>2771</td>\n",
       "      <td>1096862</td>\n",
       "      <td>301172</td>\n",
       "      <td>2450</td>\n",
       "      <td>268140</td>\n",
       "      <td>30582</td>\n",
       "      <td>2.276591</td>\n",
       "      <td>14325938</td>\n",
       "      <td>13229076</td>\n",
       "    </tr>\n",
       "    <tr>\n",
       "      <th>4</th>\n",
       "      <td>2021-09-24</td>\n",
       "      <td>3269</td>\n",
       "      <td>1056223</td>\n",
       "      <td>298401</td>\n",
       "      <td>2441</td>\n",
       "      <td>266414</td>\n",
       "      <td>29546</td>\n",
       "      <td>2.255638</td>\n",
       "      <td>14285339</td>\n",
       "      <td>13229116</td>\n",
       "    </tr>\n",
       "    <tr>\n",
       "      <th>...</th>\n",
       "      <td>...</td>\n",
       "      <td>...</td>\n",
       "      <td>...</td>\n",
       "      <td>...</td>\n",
       "      <td>...</td>\n",
       "      <td>...</td>\n",
       "      <td>...</td>\n",
       "      <td>...</td>\n",
       "      <td>...</td>\n",
       "      <td>...</td>\n",
       "    </tr>\n",
       "    <tr>\n",
       "      <th>571</th>\n",
       "      <td>2020-03-06</td>\n",
       "      <td>483</td>\n",
       "      <td>19620</td>\n",
       "      <td>6767</td>\n",
       "      <td>44</td>\n",
       "      <td>118</td>\n",
       "      <td>6134</td>\n",
       "      <td>4.267543</td>\n",
       "      <td>178189</td>\n",
       "      <td>158569</td>\n",
       "    </tr>\n",
       "    <tr>\n",
       "      <th>572</th>\n",
       "      <td>2020-03-05</td>\n",
       "      <td>518</td>\n",
       "      <td>21832</td>\n",
       "      <td>6284</td>\n",
       "      <td>42</td>\n",
       "      <td>108</td>\n",
       "      <td>5643</td>\n",
       "      <td>4.397235</td>\n",
       "      <td>164740</td>\n",
       "      <td>142908</td>\n",
       "    </tr>\n",
       "    <tr>\n",
       "      <th>573</th>\n",
       "      <td>2020-03-04</td>\n",
       "      <td>438</td>\n",
       "      <td>21810</td>\n",
       "      <td>5766</td>\n",
       "      <td>35</td>\n",
       "      <td>88</td>\n",
       "      <td>5255</td>\n",
       "      <td>4.622748</td>\n",
       "      <td>146541</td>\n",
       "      <td>124731</td>\n",
       "    </tr>\n",
       "    <tr>\n",
       "      <th>574</th>\n",
       "      <td>2020-03-03</td>\n",
       "      <td>516</td>\n",
       "      <td>28414</td>\n",
       "      <td>5328</td>\n",
       "      <td>32</td>\n",
       "      <td>41</td>\n",
       "      <td>4750</td>\n",
       "      <td>4.919986</td>\n",
       "      <td>136707</td>\n",
       "      <td>108293</td>\n",
       "    </tr>\n",
       "    <tr>\n",
       "      <th>575</th>\n",
       "      <td>2020-03-02</td>\n",
       "      <td>0</td>\n",
       "      <td>35555</td>\n",
       "      <td>4812</td>\n",
       "      <td>28</td>\n",
       "      <td>34</td>\n",
       "      <td>4159</td>\n",
       "      <td>5.329140</td>\n",
       "      <td>125851</td>\n",
       "      <td>90296</td>\n",
       "    </tr>\n",
       "  </tbody>\n",
       "</table>\n",
       "<p>576 rows × 10 columns</p>\n",
       "</div>"
      ],
      "text/plain": [
       "            날짜  당일확진자수    검사진행수  누적확진자수  누적사망자수  누적격리해제수  치료중환자수     누적확진률  \\\n",
       "0   2021-09-28    2883  1137617  308725    2474   272724   33527  2.312955   \n",
       "1   2021-09-27    2289  1135394  305842    2464   270928   32450  2.301263   \n",
       "2   2021-09-26    2381  1120111  303553    2456   269132   31965  2.291688   \n",
       "3   2021-09-25    2771  1096862  301172    2450   268140   30582  2.276591   \n",
       "4   2021-09-24    3269  1056223  298401    2441   266414   29546  2.255638   \n",
       "..         ...     ...      ...     ...     ...      ...     ...       ...   \n",
       "571 2020-03-06     483    19620    6767      44      118    6134  4.267543   \n",
       "572 2020-03-05     518    21832    6284      42      108    5643  4.397235   \n",
       "573 2020-03-04     438    21810    5766      35       88    5255  4.622748   \n",
       "574 2020-03-03     516    28414    5328      32       41    4750  4.919986   \n",
       "575 2020-03-02       0    35555    4812      28       34    4159  5.329140   \n",
       "\n",
       "        누적검사수   누적검사완료수  \n",
       "0    14485260  13347643  \n",
       "1    14425573  13290179  \n",
       "2    14365935  13245824  \n",
       "3    14325938  13229076  \n",
       "4    14285339  13229116  \n",
       "..        ...       ...  \n",
       "571    178189    158569  \n",
       "572    164740    142908  \n",
       "573    146541    124731  \n",
       "574    136707    108293  \n",
       "575    125851     90296  \n",
       "\n",
       "[576 rows x 10 columns]"
      ]
     },
     "execution_count": 138,
     "metadata": {},
     "output_type": "execute_result"
    }
   ],
   "source": [
    "# corona open api 가져오기\n",
    "url_pages = \"1000\" #페이지당열갯수\n",
    "url_start_date = \"20200303\" #시작날짜\n",
    "url_end_date = datetime.today().strftime(\"%Y%m%d%H%M%S\")[:8] #끝날짜\n",
    "url = url_decide_base + \"?serviceKey=\" + url_decide_serviceKey + \"&pageNo=1&numOfRows=\" + url_pages + \"&startCreateDt=\"+ url_start_date + \"&endCreateDt=\" + url_end_date\n",
    "\n",
    "# type 변환\n",
    "req = requests.get(url).content\n",
    "xmlObject = xmltodict.parse(req)\n",
    "dict_data = xmlObject['response']['body']['items']['item']\n",
    "\n",
    "# Dataframe으로 변환 후 전처리 진행\n",
    "dfDecide = pd.DataFrame(dict_data)\n",
    "dfDecide.drop(['createDt', 'seq', 'stateTime', 'updateDt', 'resutlNegCnt'], axis=1, inplace=True)\n",
    "dfDecide.sort_values(['stateDt'], ascending=False, inplace=True)\n",
    "dfDecide['stateDt'] = pd.to_datetime(dfDecide['stateDt']) - pd.DateOffset(days=1) # 당일 들어오는 데이터는 실제로 전날에 발생한 데이터\n",
    "dfDecide = dfDecide.astype({\"accExamCnt\":\"int64\", \"accExamCompCnt\":\"int64\", \"careCnt\":\"int64\", \"clearCnt\":\"int64\", \"deathCnt\":\"int64\", \"decideCnt\":\"int64\", \"examCnt\":\"int64\", \"accDefRate\":\"float64\"}).copy()\n",
    "dfDecide['newDecideCnt'] = 0\n",
    "\n",
    "# 새로운 컬럼 생성\n",
    "for i in range(len(dfDecide)-1):\n",
    "    dfDecide['newDecideCnt'][i] = int(dfDecide.iloc[i]['decideCnt']) - int(dfDecide.iloc[i+1]['decideCnt'])\n",
    "    \n",
    "# Dataframe 형태 정리    \n",
    "dfDecide = dfDecide[['stateDt', 'newDecideCnt', 'examCnt', 'decideCnt', 'deathCnt', 'clearCnt', 'careCnt', 'accDefRate', 'accExamCnt', 'accExamCompCnt']].copy()\n",
    "dfDecide.rename(columns={'stateDt':'날짜', 'newDecideCnt':'당일확진자수', 'examCnt':'검사진행수', 'decideCnt':'누적확진자수',\\\n",
    "                         'deathCnt':'누적사망자수', 'clearCnt':'누적격리해제수', \n",
    "                         'careCnt':'치료중환자수', 'accDefRate':'누적확진률', 'accExamCnt':'누적검사수',\\\n",
    "                         'accExamCompCnt':'누적검사완료수'}, inplace=True)\n",
    "dfDecide"
   ]
  },
  {
   "cell_type": "code",
   "execution_count": 139,
   "id": "a40b596a",
   "metadata": {},
   "outputs": [],
   "source": [
    "#dfDecide.to_parquet('corona')"
   ]
  },
  {
   "cell_type": "code",
   "execution_count": 14,
   "id": "da0b5538",
   "metadata": {},
   "outputs": [],
   "source": [
    "# spark 연결\n",
    "spark = SparkSession \\\n",
    "    .builder \\\n",
    "    .appName(\"coronaAPI\") \\\n",
    "    .config(\"spark.mongodb.input.uri\", \"mongodb://localhost:27017\") \\\n",
    "    .config(\"spark.mongodb.input.database\",\"ojo_db\") \\\n",
    "    .config(\"spark.mongodb.input.collection\", \"coronaAPI\") \\\n",
    "    .config(\"packages org.mongodb.spark:mongo-spark-connector_2.12:3.0.1\").getOrCreate()\n",
    "sc =spark.sparkContext\n",
    "\n",
    "# # pymongo connect\n",
    "# client = MongoClient('localhost',27017) # mongodb 27017 port\n",
    "# db = client.ojo_db\n",
    "\n",
    "# # mognodb에 넣기위한 json 형태 변환 후 mongodb collection(corona)로 적재\n",
    "# for k in range(len(dfDecide)):\n",
    "#     tmp ={}\n",
    "#     for key,value in zip(dfDecide.columns,dfDecide.values[k]):\n",
    "#         tmp[key] = value\n",
    "#     db.coronaAPI.insert_one(tmp)"
   ]
  },
  {
   "cell_type": "markdown",
   "id": "2e7b2aa6",
   "metadata": {},
   "source": [
    "### 지역별 확진자 수"
   ]
  },
  {
   "cell_type": "code",
   "execution_count": 22,
   "id": "a44e88ee",
   "metadata": {},
   "outputs": [],
   "source": [
    "url_district_base = \"http://openapi.data.go.kr/openapi/service/rest/Covid19/getCovid19SidoInfStateJson\"\n",
    "url_district_serviceKey = \"S8%2Ftx%2BhEP7bZDZI%2By0P1ZKvPuHpx%2BVUKpt6ay8faxnxR%2FTRO9M5UAy8%2BafhJBNVzQG%2Fgwoym2S4Xbe1dUXivUw%3D%3D\"\n",
    "\n",
    "# corona open api 가져오기\n",
    "nowtime = datetime.today().strftime(\"%Y-%m-%d\")\n",
    "url_pages = \"1000\" #페이지당열갯수\n",
    "url_start_date = datetime.today().strftime(\"%Y%m%d%H%M%S\")[:8]#\"20200303\" #시작날짜\n",
    "url_end_date = datetime.today().strftime(\"%Y%m%d%H%M%S\")[:8] #끝날짜\n",
    "\n",
    "\n",
    "\n",
    "# open api 가져오기\n",
    "url_district= url_district_base + \"?serviceKey=\" + url_district_serviceKey + \"&pageNo=1&numOfRows=\" + url_pages + \"&startCreateDt=\"+ url_start_date + \"&endCreateDt=\" + url_end_date\n",
    "# type 변환 \n",
    "req = requests.get(url_district).content\n",
    "xmlObject = xmltodict.parse(req)\n",
    "dict_data = xmlObject['response']['body']['items']['item']\n",
    "\n",
    "# 전처리\n",
    "dfDistrict = pd.DataFrame(dict_data)\n",
    "\n",
    "# 합계, 검역 삭제 후 dataframe 내에서 index 다시 0부터 차례대로 지정\n",
    "dfDistrict = dfDistrict[(dfDistrict['gubun'] != '합계') & (dfDistrict['gubun'] != '검역')].reset_index(drop=True).copy()\n",
    "dfDistrict.drop(['stdDay', 'updateDt', 'seq', 'qurRate', 'gubunCn'], axis=1, inplace=True)\n",
    "dfDistrict = dfDistrict.astype({\"createDt\":\"datetime64[ns]\"}).copy()\n",
    "# dfDistrict['createDt'] = dfDistrict['createDt'] - pd.DateOffset(days=2)\n",
    "dfDistrict['stateDt'] = dfDistrict['createDt'].dt.date         # YYYY-MM-DD(문자)\n",
    "dfDistrict.drop(['createDt'], axis=1, inplace=True)\n",
    "dfDistrict.drop(['gubunEn'], axis=1, inplace=True)\n",
    "\n",
    "# type 변환\n",
    "dfDistrict = dfDistrict.astype({\"stateDt\":\"datetime64[ns]\", \"defCnt\":\"int64\", \"deathCnt\":\"int64\", \"incDec\":\"int64\"}).copy()\n",
    "dfDistrict = dfDistrict[['stateDt', 'gubun', 'defCnt', 'deathCnt', 'incDec', 'isolClearCnt', 'isolIngCnt', 'localOccCnt', 'overFlowCnt']].copy()\n",
    "\n",
    "# null값 처리\n",
    "dfDistrict['isolClearCnt'] = dfDistrict['isolClearCnt'].fillna(0).astype(\"int64\")\n",
    "dfDistrict['isolIngCnt'] = dfDistrict['isolIngCnt'].fillna(0).astype(\"int64\")\n",
    "dfDistrict['localOccCnt'] = dfDistrict['localOccCnt'].fillna(0).astype(\"int64\")\n",
    "dfDistrict['overFlowCnt'] = dfDistrict['overFlowCnt'].fillna(0).astype(\"int64\")\n",
    "\n",
    "# Dataframe 형태 정리\n",
    "dfDistrict = dfDistrict.astype({\"isolClearCnt\":\"int64\", \"isolIngCnt\":\"int64\", \"localOccCnt\":\"int64\", \"overFlowCnt\":\"int64\"}).copy()\n",
    "dfDistrict.rename(columns={'stateDt':'날짜', 'gubun':'Area', 'defCnt':'확진자수', 'deathCnt':'사망자수', 'incDec':'전일대비증감수',\n",
    "                           'isolClearCnt':'격리해제수', 'isolIngCnt':'격리중환자수', 'localOccCnt':'지역발생수', \n",
    "                           'overFlowCnt':'해외유입수'}, inplace=True)\n",
    "\n",
    "dfDistrict.to_parquet('coronaAPI_'+ nowtime)"
   ]
  },
  {
   "cell_type": "code",
   "execution_count": 21,
   "id": "4639e97d",
   "metadata": {},
   "outputs": [
    {
     "name": "stdout",
     "output_type": "stream",
     "text": [
      "+-------------------+----+--------+--------+--------------+----------+------------+----------+----------+\n",
      "|               날짜|Area|확진자수|사망자수|전일대비증감수|격리해제수|격리중환자수|지역발생수|해외유입수|\n",
      "+-------------------+----+--------+--------+--------------+----------+------------+----------+----------+\n",
      "|2021-09-29 09:00:00|제주|    2860|       2|             5|      2767|          91|         5|         0|\n",
      "|2021-09-29 09:00:00|경남|   11393|      37|            84|     10790|         566|        81|         3|\n",
      "|2021-09-29 09:00:00|경북|    8271|      91|            88|      7594|         586|        88|         0|\n",
      "|2021-09-29 09:00:00|전남|    3060|      21|            23|      2833|         206|        23|         0|\n",
      "|2021-09-29 09:00:00|전북|    4480|      61|            41|      3969|         450|        41|         0|\n",
      "|2021-09-29 09:00:00|충남|    9073|      56|            77|      7953|        1064|        75|         2|\n",
      "|2021-09-29 09:00:00|충북|    6284|      77|            84|      5656|         551|        83|         1|\n",
      "|2021-09-29 09:00:00|강원|    6405|      62|            20|      5938|         405|        20|         0|\n",
      "|2021-09-29 09:00:00|경기|   89246|     800|           991|     77570|       10876|       989|         2|\n",
      "|2021-09-29 09:00:00|세종|    1225|       1|            10|      1136|          88|        10|         0|\n",
      "|2021-09-29 09:00:00|울산|    5138|      52|            27|      4867|         219|        27|         0|\n",
      "|2021-09-29 09:00:00|대전|    6949|      46|            29|      6291|         612|        28|         1|\n",
      "|2021-09-29 09:00:00|광주|    4957|      29|            28|      4584|         344|        28|         0|\n",
      "|2021-09-29 09:00:00|인천|   15654|      88|           154|     13380|        2186|       151|         3|\n",
      "|2021-09-29 09:00:00|대구|   15426|     242|           109|     14182|        1002|       108|         1|\n",
      "|2021-09-29 09:00:00|부산|   12672|     155|            52|     12012|         505|        52|         0|\n",
      "|2021-09-29 09:00:00|서울|   99550|     639|          1054|     85358|       13553|      1050|         4|\n",
      "+-------------------+----+--------+--------+--------------+----------+------------+----------+----------+\n",
      "\n"
     ]
    }
   ],
   "source": [
    "coronaAPI = spark.read.parquet(\"hdfs://localhost:9000/data/coronaAPI_2021-09-29\")\n",
    "coronaAPI.show()"
   ]
  },
  {
   "cell_type": "markdown",
   "id": "60f92fdc",
   "metadata": {},
   "source": [
    "### 코로나 단계"
   ]
  },
  {
   "cell_type": "code",
   "execution_count": 21,
   "id": "brilliant-hometown",
   "metadata": {},
   "outputs": [],
   "source": [
    "from selenium import webdriver\n",
    "from selenium.webdriver.common.keys import Keys\n",
    "from pyvirtualdisplay import Display\n",
    "\n",
    "from datetime import datetime, timedelta\n",
    "from pymongo import MongoClient\n",
    "import pandas as pd \n",
    "import numpy as np\n",
    "import json\n",
    "\n",
    "\n",
    "# pymongo connect\n",
    "client = MongoClient('localhost',27017) # mongodb 27017 port\n",
    "db = client.ojo_db\n",
    "\n",
    "display = Display(visible=0, size=(1024, 768)) \n",
    "display.start()\n",
    " \n",
    "path = '/home/ubuntu/chromedriver' \n",
    "driver = webdriver.Chrome(path)\n",
    "\n",
    "\n",
    "driver.get('http://ncov.mohw.go.kr/regSocdisBoardView.do')\n",
    "info_df = pd.DataFrame(columns=(\"Area\",\"Stage\",\"Description\"))\n",
    "idx = 0\n",
    "\n",
    "for i in range(1,18):\n",
    "    location = driver.find_element_by_xpath(f'//*[@id=\"main_maplayout\"]/button[{i}]')\n",
    "    location.click()\n",
    "    \n",
    "    area = driver.find_element_by_xpath(f'//*[@id=\"step_map_city{i}\"]/h3').text\n",
    "    stage =  driver.find_element_by_xpath(f'//*[@id=\"step_map_city{i}\"]/h4').text\n",
    "    description = driver.find_element_by_xpath(f'//*[@id=\"step_map_city{i}\"]/p').text\n",
    "    \n",
    "    # 확인용\n",
    "    area_info = [area,stage,description]\n",
    "    info_df.loc[idx] = area_info\n",
    "    idx += 1\n",
    "    \n",
    "    driver.implicitly_wait(3)\n",
    "    \n",
    "info_df.to_parquet('coronaStage_'+ nowtime)"
   ]
  },
  {
   "cell_type": "code",
   "execution_count": 17,
   "id": "06c1cd9d",
   "metadata": {},
   "outputs": [],
   "source": [
    "# info_df = pd.DataFrame(columns=(\"Area\",\"Stage\",\"Description\"))\n",
    "\n",
    "# nowtime = datetime.today().strftime(\"%Y-%m-%d\")\n",
    "\n",
    "# dfDistrict.to_parquet('coronaAPI_'+ nowtime)\n",
    "# info_df.to_parquet('coronaStage_'+ nowtime)"
   ]
  },
  {
   "cell_type": "code",
   "execution_count": null,
   "id": "04f99ef1",
   "metadata": {},
   "outputs": [],
   "source": [
    "nowtime = datetime.today().strftime(\"%Y-%m-%d\")\n",
    "\n",
    "df_coronaAPI = pd.DataFrame(xmlObject['response']['body']['items']['item'])\n",
    "    \n",
    "driver.get('http://ncov.mohw.go.kr/regSocdisBoardView.do')\n",
    "df_coronaCrawling = pd.DataFrame(columns=(\"Area\",\"Stage\",\"Description\"))\n",
    "\n",
    "df_coronaAPI.to_parquet('coronaAPI_'+ nowtime)\n",
    "df_coronaCrawling.to_parquet('coronaStage_'+ nowtime)"
   ]
  },
  {
   "cell_type": "code",
   "execution_count": 144,
   "id": "8bb04c14",
   "metadata": {},
   "outputs": [
    {
     "name": "stdout",
     "output_type": "stream",
     "text": [
      "<class 'pandas.core.frame.DataFrame'>\n",
      "<class 'pandas.core.frame.DataFrame'>\n"
     ]
    }
   ],
   "source": [
    "print(type(info_df))\n",
    "print(type(dfDistrict))"
   ]
  },
  {
   "cell_type": "code",
   "execution_count": 15,
   "id": "b1d4b69a",
   "metadata": {},
   "outputs": [],
   "source": [
    "coronaStage = spark.read.parquet(\"hdfs://localhost:9000/data/coronaStage_2021-09-29\")\n",
    "#coronaStage.show()"
   ]
  },
  {
   "cell_type": "code",
   "execution_count": null,
   "id": "e197d186",
   "metadata": {},
   "outputs": [],
   "source": [
    "df = df.drop('날짜')"
   ]
  },
  {
   "cell_type": "code",
   "execution_count": 17,
   "id": "31f2cd68",
   "metadata": {},
   "outputs": [
    {
     "name": "stdout",
     "output_type": "stream",
     "text": [
      "+----+------+-----------------------------+-----------------+\n",
      "|Area| Stage|                  Description|__index_level_0__|\n",
      "+----+------+-----------------------------+-----------------+\n",
      "|서울|4 단계|  - 서울 전지역 4단계 (21....|                0|\n",
      "|부산|3 단계|  - 부산 전지역 3단계 (21....|                1|\n",
      "|대구|3 단계|  - 대구 전지역 3단계 (21....|                2|\n",
      "|인천|4 단계| - 인천 일부지역 4단계 (21...|                3|\n",
      "|광주|3 단계|  - 광주 전지역 3단계 (21....|                4|\n",
      "|대전|3 단계|  - 대전 전지역 3단계 (21....|                5|\n",
      "|울산|3 단계|  - 울산 전지역 3단계 (21....|                6|\n",
      "|세종|3 단계|  - 세종 전지역 3단계 (21....|                7|\n",
      "|경기|4 단계|  - 경기 전지역 4단계 (21....|                8|\n",
      "|강원|3 단계|- 춘천시, 원주시, 강릉시, ...|                9|\n",
      "|충북|3 단계|  - 충북 전지역 3단계 (21....|               10|\n",
      "|충남|3 단계|  - 충남 전지역 3단계 (21....|               11|\n",
      "|전북|3 단계| - 전북 일부지역 3단계 (21...|               12|\n",
      "|전남|3 단계|  - 전남 전지역 3단계 (21....|               13|\n",
      "|경북|3 단계| - 경북 일부지역 3단계 (21...|               14|\n",
      "|경남|3 단계|  - 경남 전지역 3단계 (21....|               15|\n",
      "|제주|3 단계|  - 제주 전지역 3단계 (21....|               16|\n",
      "+----+------+-----------------------------+-----------------+\n",
      "\n"
     ]
    }
   ],
   "source": [
    "coronaStage.show()"
   ]
  },
  {
   "cell_type": "markdown",
   "id": "ffc43f33",
   "metadata": {},
   "source": [
    "### 코로나 지역별 확진자 + 단계"
   ]
  },
  {
   "cell_type": "code",
   "execution_count": 57,
   "id": "b8a26cc1",
   "metadata": {
    "scrolled": false
   },
   "outputs": [
    {
     "name": "stdout",
     "output_type": "stream",
     "text": [
      "<class 'pandas.core.frame.DataFrame'>\n"
     ]
    }
   ],
   "source": [
    "df_INNER_JOIN = pd.merge(dfDistrict, info_df, left_on='Area', right_on='Area', how='left')\n",
    "df_INNER_JOIN[0:17]\n",
    "print(type(df_INNER_JOIN))"
   ]
  },
  {
   "cell_type": "code",
   "execution_count": 47,
   "id": "b3f838ff",
   "metadata": {},
   "outputs": [],
   "source": [
    "# mognodb에 넣기위한 json 형태 변환 후 mongodb collection(corona)로 적재\n",
    "for k in range(len(df_INNER_JOIN)):\n",
    "    tmp ={}\n",
    "    for key,value in zip(df_INNER_JOIN.columns,df_INNER_JOIN.values[k]):\n",
    "        tmp[key] = value\n",
    "    db.corona_test.insert_one(tmp)"
   ]
  },
  {
   "cell_type": "code",
   "execution_count": 26,
   "id": "1e60dcd9",
   "metadata": {},
   "outputs": [],
   "source": [
    "disp = spark.read.parquet(\"hdfs://localhost:9000/data/corona/coronaAPI_2021-09-30\")\n",
    "disp_st = spark.read.parquet(\"hdfs://localhost:9000/data/corona/coronaStage_2021-09-30\")\n",
    "\n",
    "df = disp.select('날짜','area','확진자수')"
   ]
  },
  {
   "cell_type": "code",
   "execution_count": 27,
   "id": "d21b1fca",
   "metadata": {},
   "outputs": [],
   "source": [
    "df1 = df.select('날짜')"
   ]
  },
  {
   "cell_type": "code",
   "execution_count": 28,
   "id": "2ce9d5b0",
   "metadata": {},
   "outputs": [
    {
     "data": {
      "text/plain": [
       "<bound method DataFrame.withColumnRenamed of DataFrame[날짜: timestamp]>"
      ]
     },
     "execution_count": 28,
     "metadata": {},
     "output_type": "execute_result"
    }
   ],
   "source": [
    "df1.withColumnRenamed"
   ]
  },
  {
   "cell_type": "code",
   "execution_count": 29,
   "id": "e4ab87fb",
   "metadata": {},
   "outputs": [
    {
     "data": {
      "text/plain": [
       "DataFrame[날짜: timestamp]"
      ]
     },
     "execution_count": 29,
     "metadata": {},
     "output_type": "execute_result"
    }
   ],
   "source": [
    "df1"
   ]
  },
  {
   "cell_type": "code",
   "execution_count": 30,
   "id": "f0d52ada",
   "metadata": {},
   "outputs": [
    {
     "name": "stdout",
     "output_type": "stream",
     "text": [
      "+-------------+\n",
      "|to_date(날짜)|\n",
      "+-------------+\n",
      "|   2021-09-30|\n",
      "|   2021-09-30|\n",
      "|   2021-09-30|\n",
      "|   2021-09-30|\n",
      "|   2021-09-30|\n",
      "|   2021-09-30|\n",
      "|   2021-09-30|\n",
      "|   2021-09-30|\n",
      "|   2021-09-30|\n",
      "|   2021-09-30|\n",
      "|   2021-09-30|\n",
      "|   2021-09-30|\n",
      "|   2021-09-30|\n",
      "|   2021-09-30|\n",
      "|   2021-09-30|\n",
      "|   2021-09-30|\n",
      "|   2021-09-30|\n",
      "+-------------+\n",
      "\n"
     ]
    }
   ],
   "source": [
    "df.select(f.to_date(df['날짜'])).show()"
   ]
  },
  {
   "cell_type": "code",
   "execution_count": 63,
   "id": "ba6f723f",
   "metadata": {},
   "outputs": [],
   "source": [
    "from pyspark.conf import SparkConf \n",
    "from pyspark.sql import SparkSession\n",
    "from pyspark.sql.types import StructType,StructField, StringType, IntegerType\n",
    "import pyspark\n",
    "import pyspark.sql.functions as f \n",
    "from pymongo import MongoClient\n",
    "\n",
    "spark = SparkSession.builder.appName(\"example-pyspark-read-and-write\").getOrCreate()\n",
    "\n",
    "disp = spark.read.parquet(\"hdfs://localhost:9000/data/corona/coronaAPI_2021-09-30\")\n",
    "disp_st = spark.read.parquet(\"hdfs://localhost:9000/data/corona/coronaStage_2021-09-30\")\n",
    "\n",
    "df = disp.select('날짜','area','확진자수')\n",
    "df = df.withColumn('date',f.to_date(df['날짜']))\n",
    "df.date.cast(StringType())\n",
    "df = df.drop('날짜')\n"
   ]
  },
  {
   "cell_type": "code",
   "execution_count": 64,
   "id": "93624354",
   "metadata": {},
   "outputs": [],
   "source": [
    "df = df.withColumnRenamed(\"date\", \"날짜\")"
   ]
  },
  {
   "cell_type": "code",
   "execution_count": 65,
   "id": "c48abde9",
   "metadata": {},
   "outputs": [],
   "source": [
    "disp_st = disp_st.drop('__index_level_0__')"
   ]
  },
  {
   "cell_type": "code",
   "execution_count": 66,
   "id": "84a1ad52",
   "metadata": {},
   "outputs": [],
   "source": [
    "disp_st = disp_st.withColumnRenamed(\"Stage\", \"거리두기단계\")"
   ]
  },
  {
   "cell_type": "code",
   "execution_count": 67,
   "id": "configured-accessory",
   "metadata": {},
   "outputs": [
    {
     "name": "stdout",
     "output_type": "stream",
     "text": [
      "+----+--------+----------+\n",
      "|area|확진자수|      날짜|\n",
      "+----+--------+----------+\n",
      "|제주|    2875|2021-09-30|\n",
      "|경남|   11461|2021-09-30|\n",
      "|경북|    8323|2021-09-30|\n",
      "|전남|    3084|2021-09-30|\n",
      "|전북|    4515|2021-09-30|\n",
      "|충남|    9133|2021-09-30|\n",
      "|충북|    6345|2021-09-30|\n",
      "|강원|    6437|2021-09-30|\n",
      "|경기|   90130|2021-09-30|\n",
      "|세종|    1239|2021-09-30|\n",
      "|울산|    5165|2021-09-30|\n",
      "|대전|    6985|2021-09-30|\n",
      "|광주|    4989|2021-09-30|\n",
      "|인천|   15802|2021-09-30|\n",
      "|대구|   15499|2021-09-30|\n",
      "|부산|   12721|2021-09-30|\n",
      "|서울|  100495|2021-09-30|\n",
      "+----+--------+----------+\n",
      "\n"
     ]
    }
   ],
   "source": [
    "df.show()"
   ]
  },
  {
   "cell_type": "code",
   "execution_count": 68,
   "id": "driving-charles",
   "metadata": {},
   "outputs": [
    {
     "name": "stdout",
     "output_type": "stream",
     "text": [
      "+----+------------+-----------------------------+\n",
      "|Area|거리두기단계|                  Description|\n",
      "+----+------------+-----------------------------+\n",
      "|서울|      4 단계|  - 서울 전지역 4단계 (21....|\n",
      "|부산|      3 단계|  - 부산 전지역 3단계 (21....|\n",
      "|대구|      3 단계|  - 대구 전지역 3단계 (21....|\n",
      "|인천|      4 단계| - 인천 일부지역 4단계 (21...|\n",
      "|광주|      3 단계|  - 광주 전지역 3단계 (21....|\n",
      "|대전|      3 단계|  - 대전 전지역 3단계 (21....|\n",
      "|울산|      3 단계|  - 울산 전지역 3단계 (21....|\n",
      "|세종|      3 단계|  - 세종 전지역 3단계 (21....|\n",
      "|경기|      4 단계|  - 경기 전지역 4단계 (21....|\n",
      "|강원|      3 단계|- 춘천시, 원주시, 강릉시, ...|\n",
      "|충북|      3 단계|  - 충북 전지역 3단계 (21....|\n",
      "|충남|      3 단계|  - 충남 전지역 3단계 (21....|\n",
      "|전북|      3 단계| - 전북 일부지역 3단계 (21...|\n",
      "|전남|      3 단계|  - 전남 전지역 3단계 (21....|\n",
      "|경북|      3 단계| - 경북 일부지역 3단계 (21...|\n",
      "|경남|      3 단계|  - 경남 전지역 3단계 (21....|\n",
      "|제주|      3 단계|  - 제주 전지역 3단계 (21....|\n",
      "+----+------------+-----------------------------+\n",
      "\n"
     ]
    }
   ],
   "source": [
    "disp_st.show()"
   ]
  },
  {
   "cell_type": "code",
   "execution_count": 69,
   "id": "38196109",
   "metadata": {},
   "outputs": [],
   "source": [
    "df_corona = df.join(disp_st, on=['Area'], how='left_outer')"
   ]
  },
  {
   "cell_type": "code",
   "execution_count": 70,
   "id": "smart-simulation",
   "metadata": {},
   "outputs": [],
   "source": [
    "df_corona = df_corona.withColumnRenamed(\"area\", \"지역\")"
   ]
  },
  {
   "cell_type": "code",
   "execution_count": 71,
   "id": "2372c871",
   "metadata": {},
   "outputs": [
    {
     "name": "stdout",
     "output_type": "stream",
     "text": [
      "+----+--------+----------+------------+-----------------------------+\n",
      "|지역|확진자수|      날짜|거리두기단계|                  Description|\n",
      "+----+--------+----------+------------+-----------------------------+\n",
      "|제주|    2875|2021-09-30|      3 단계|  - 제주 전지역 3단계 (21....|\n",
      "|경남|   11461|2021-09-30|      3 단계|  - 경남 전지역 3단계 (21....|\n",
      "|경북|    8323|2021-09-30|      3 단계| - 경북 일부지역 3단계 (21...|\n",
      "|전남|    3084|2021-09-30|      3 단계|  - 전남 전지역 3단계 (21....|\n",
      "|전북|    4515|2021-09-30|      3 단계| - 전북 일부지역 3단계 (21...|\n",
      "|충남|    9133|2021-09-30|      3 단계|  - 충남 전지역 3단계 (21....|\n",
      "|충북|    6345|2021-09-30|      3 단계|  - 충북 전지역 3단계 (21....|\n",
      "|강원|    6437|2021-09-30|      3 단계|- 춘천시, 원주시, 강릉시, ...|\n",
      "|경기|   90130|2021-09-30|      4 단계|  - 경기 전지역 4단계 (21....|\n",
      "|세종|    1239|2021-09-30|      3 단계|  - 세종 전지역 3단계 (21....|\n",
      "|울산|    5165|2021-09-30|      3 단계|  - 울산 전지역 3단계 (21....|\n",
      "|대전|    6985|2021-09-30|      3 단계|  - 대전 전지역 3단계 (21....|\n",
      "|광주|    4989|2021-09-30|      3 단계|  - 광주 전지역 3단계 (21....|\n",
      "|인천|   15802|2021-09-30|      4 단계| - 인천 일부지역 4단계 (21...|\n",
      "|대구|   15499|2021-09-30|      3 단계|  - 대구 전지역 3단계 (21....|\n",
      "|부산|   12721|2021-09-30|      3 단계|  - 부산 전지역 3단계 (21....|\n",
      "|서울|  100495|2021-09-30|      4 단계|  - 서울 전지역 4단계 (21....|\n",
      "+----+--------+----------+------------+-----------------------------+\n",
      "\n"
     ]
    }
   ],
   "source": [
    "df_corona.show()"
   ]
  },
  {
   "cell_type": "code",
   "execution_count": 72,
   "id": "5598fd28",
   "metadata": {},
   "outputs": [],
   "source": [
    "new_df = df_corona.toJSON().map(lambda x: json.loads(x)).collect()"
   ]
  },
  {
   "cell_type": "code",
   "execution_count": 131,
   "id": "1c93953c",
   "metadata": {},
   "outputs": [],
   "source": [
    "#print('new_df', type(new_df[0]), new_df)"
   ]
  },
  {
   "cell_type": "code",
   "execution_count": 132,
   "id": "e1b946c4",
   "metadata": {},
   "outputs": [
    {
     "name": "stdout",
     "output_type": "stream",
     "text": [
      "{'지역': '제주', '확진자수': 2860, '날짜': '2021-09-29', '거리두기단계': '3 단계', '상세내용': '- 제주 전지역 3단계 (21.9.23~10.3.)'}\n"
     ]
    }
   ],
   "source": [
    "print(new_df[0])"
   ]
  },
  {
   "cell_type": "code",
   "execution_count": 74,
   "id": "54c6582f",
   "metadata": {},
   "outputs": [
    {
     "data": {
      "text/plain": [
       "[{'지역': '제주',\n",
       "  '확진자수': 2875,\n",
       "  '날짜': '2021-09-30',\n",
       "  '거리두기단계': '3 단계',\n",
       "  'Description': '- 제주 전지역 3단계 (21.9.23~10.3.)',\n",
       "  '_id': ObjectId('615543f56cf33354fb1a7e58')},\n",
       " {'지역': '경남',\n",
       "  '확진자수': 11461,\n",
       "  '날짜': '2021-09-30',\n",
       "  '거리두기단계': '3 단계',\n",
       "  'Description': '- 경남 전지역 3단계 (21.9.6~10.3.)',\n",
       "  '_id': ObjectId('615543f56cf33354fb1a7e59')},\n",
       " {'지역': '경북',\n",
       "  '확진자수': 8323,\n",
       "  '날짜': '2021-09-30',\n",
       "  '거리두기단계': '3 단계',\n",
       "  'Description': '- 경북 일부지역 3단계 (21.9.6~10.3.)\\n- 성주군 선남면 3단계 (21.9.6~10.3.)\\n- 문경시, 상주시 2단계 (21.9.6~10.3.)\\n- 군위군, 의성군, 청송군, 영양군, 영덕군, 청도군, 고령군, 성주군(선남면 제외), 예천군, 봉화군, 울릉군, 울진군 1단계 (21.9.6~10.3.)',\n",
       "  '_id': ObjectId('615543f56cf33354fb1a7e5a')},\n",
       " {'지역': '전남',\n",
       "  '확진자수': 3084,\n",
       "  '날짜': '2021-09-30',\n",
       "  '거리두기단계': '3 단계',\n",
       "  'Description': '- 전남 전지역 3단계 (21.9.6~10.3.)',\n",
       "  '_id': ObjectId('615543f56cf33354fb1a7e5b')},\n",
       " {'지역': '전북',\n",
       "  '확진자수': 4515,\n",
       "  '날짜': '2021-09-30',\n",
       "  '거리두기단계': '3 단계',\n",
       "  'Description': '- 전북 일부지역 3단계 (21.9.6~10.3.)\\n- 정읍시, 남원시, 김제시, 완주군, 진안군, 무주군, 장수군, 임실군, 순창군, 고창군, 부안군 2단계 (21.9.6~10.3.)',\n",
       "  '_id': ObjectId('615543f56cf33354fb1a7e5c')},\n",
       " {'지역': '충남',\n",
       "  '확진자수': 9133,\n",
       "  '날짜': '2021-09-30',\n",
       "  '거리두기단계': '3 단계',\n",
       "  'Description': '- 충남 전지역 3단계 (21.9.6~10.3.)',\n",
       "  '_id': ObjectId('615543f56cf33354fb1a7e5d')},\n",
       " {'지역': '충북',\n",
       "  '확진자수': 6345,\n",
       "  '날짜': '2021-09-30',\n",
       "  '거리두기단계': '3 단계',\n",
       "  'Description': '- 충북 전지역 3단계 (21.9.6~10.3.)',\n",
       "  '_id': ObjectId('615543f56cf33354fb1a7e5e')},\n",
       " {'지역': '강원',\n",
       "  '확진자수': 6437,\n",
       "  '날짜': '2021-09-30',\n",
       "  '거리두기단계': '3 단계',\n",
       "  'Description': '- 춘천시, 원주시, 강릉시, 동해시, 인제군, 삼척시 3단계 (21.9.6~10.3.)\\n- 속초시 4단계 (21.9.27~10.3.)\\n- 태백시, 홍천군, 횡성군, 영월군, 평창군, 정선군, 철원군, 화천군, 양구군, 고성군, 양양군 2단계 (21.9.6~10.3.)',\n",
       "  '_id': ObjectId('615543f56cf33354fb1a7e5f')},\n",
       " {'지역': '경기',\n",
       "  '확진자수': 90130,\n",
       "  '날짜': '2021-09-30',\n",
       "  '거리두기단계': '4 단계',\n",
       "  'Description': '- 경기 전지역 4단계 (21.9.6~10.3.)',\n",
       "  '_id': ObjectId('615543f56cf33354fb1a7e60')},\n",
       " {'지역': '세종',\n",
       "  '확진자수': 1239,\n",
       "  '날짜': '2021-09-30',\n",
       "  '거리두기단계': '3 단계',\n",
       "  'Description': '- 세종 전지역 3단계 (21.9.6~10.3.)',\n",
       "  '_id': ObjectId('615543f56cf33354fb1a7e61')},\n",
       " {'지역': '울산',\n",
       "  '확진자수': 5165,\n",
       "  '날짜': '2021-09-30',\n",
       "  '거리두기단계': '3 단계',\n",
       "  'Description': '- 울산 전지역 3단계 (21.9.6~10.3.)',\n",
       "  '_id': ObjectId('615543f56cf33354fb1a7e62')},\n",
       " {'지역': '대전',\n",
       "  '확진자수': 6985,\n",
       "  '날짜': '2021-09-30',\n",
       "  '거리두기단계': '3 단계',\n",
       "  'Description': '- 대전 전지역 3단계 (21.9.6~10.3.)',\n",
       "  '_id': ObjectId('615543f56cf33354fb1a7e63')},\n",
       " {'지역': '광주',\n",
       "  '확진자수': 4989,\n",
       "  '날짜': '2021-09-30',\n",
       "  '거리두기단계': '3 단계',\n",
       "  'Description': '- 광주 전지역 3단계 (21.9.6~10.3.)',\n",
       "  '_id': ObjectId('615543f56cf33354fb1a7e64')},\n",
       " {'지역': '인천',\n",
       "  '확진자수': 15802,\n",
       "  '날짜': '2021-09-30',\n",
       "  '거리두기단계': '4 단계',\n",
       "  'Description': '- 인천 일부지역 4단계 (21.9.6~10.3.)\\n- 강화군, 옹진군 3단계 (21.9.6~10.3.)',\n",
       "  '_id': ObjectId('615543f56cf33354fb1a7e65')},\n",
       " {'지역': '대구',\n",
       "  '확진자수': 15499,\n",
       "  '날짜': '2021-09-30',\n",
       "  '거리두기단계': '3 단계',\n",
       "  'Description': '- 대구 전지역 3단계 (21.9.6~10.3.)',\n",
       "  '_id': ObjectId('615543f56cf33354fb1a7e66')},\n",
       " {'지역': '부산',\n",
       "  '확진자수': 12721,\n",
       "  '날짜': '2021-09-30',\n",
       "  '거리두기단계': '3 단계',\n",
       "  'Description': '- 부산 전지역 3단계 (21.9.6~10.3.)',\n",
       "  '_id': ObjectId('615543f56cf33354fb1a7e67')},\n",
       " {'지역': '서울',\n",
       "  '확진자수': 100495,\n",
       "  '날짜': '2021-09-30',\n",
       "  '거리두기단계': '4 단계',\n",
       "  'Description': '- 서울 전지역 4단계 (21.9.6~10.3.)',\n",
       "  '_id': ObjectId('615543f56cf33354fb1a7e68')}]"
      ]
     },
     "execution_count": 74,
     "metadata": {},
     "output_type": "execute_result"
    }
   ],
   "source": [
    "new_df"
   ]
  },
  {
   "cell_type": "code",
   "execution_count": 73,
   "id": "baf271b1",
   "metadata": {},
   "outputs": [],
   "source": [
    "for i in new_df:\n",
    "    db.corona.insert_one(i)"
   ]
  },
  {
   "cell_type": "code",
   "execution_count": null,
   "id": "73fe7655",
   "metadata": {},
   "outputs": [],
   "source": []
  }
 ],
 "metadata": {
  "kernelspec": {
   "display_name": "Environment (conda_python3)",
   "language": "python",
   "name": "conda_python3"
  },
  "language_info": {
   "codemirror_mode": {
    "name": "ipython",
    "version": 3
   },
   "file_extension": ".py",
   "mimetype": "text/x-python",
   "name": "python",
   "nbconvert_exporter": "python",
   "pygments_lexer": "ipython3",
   "version": "3.6.13"
  }
 },
 "nbformat": 4,
 "nbformat_minor": 5
}
