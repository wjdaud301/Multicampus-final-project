{
 "cells": [
  {
   "cell_type": "code",
   "execution_count": 12,
   "id": "8df9fa38-0e82-4ca7-b292-21008abf698a",
   "metadata": {},
   "outputs": [
    {
     "name": "stdout",
     "output_type": "stream",
     "text": [
      "0.11877989768981934\n"
     ]
    }
   ],
   "source": [
    "from PIL import Image\n",
    "from io import BytesIO\n",
    "from urllib import request\n",
    "import time\n",
    "\n",
    "url = \"https://scontent-ssn1-1.cdninstagram.com/v/t51.2885-15/e35/p1080x1080/242121833_201574802040760_8194045534636663076_n.jpg?_nc_ht=scontent-ssn1-1.cdninstagram.com&_nc_cat=104&_nc_ohc=bLUK77Y-jKEAX_Hi4TI&edm=AP_V10EBAAAA&ccb=7-4&oh=065e0f36fb03facf8b06b5d5fe462234&oe=614CC077&_nc_sid=4f375e.jpg\"\n",
    "\n",
    "# time check\n",
    "start = time.time()\n",
    "\n",
    "# request.urlopen()\n",
    "res = request.urlopen(url).read()\n",
    "\n",
    "# 이미지 다운로드 시간 체크\n",
    "print(time.time() - start)\n",
    "\n",
    "\n",
    "# Image open / store\n",
    "img = Image.open(BytesIO(res))\n",
    "# img.save('test.jpeg','JPEG') # 경로추가"
   ]
  },
  {
   "cell_type": "code",
   "execution_count": 4,
   "id": "446066f5-5828-48e0-babc-f6115513547c",
   "metadata": {
    "tags": []
   },
   "outputs": [
    {
     "name": "stdout",
     "output_type": "stream",
     "text": [
      "0.21159887313842773\n"
     ]
    }
   ],
   "source": [
    "import urllib.request\n",
    "import time\n",
    "\n",
    "# 다운받을 이미지 url\n",
    "url = \"https://scontent-ssn1-1.cdninstagram.com/v/t51.2885-15/e35/p1080x1080/242171162_1202333360279552_2914688748573314257_n.jpg?_nc_ht=scontent-ssn1-1.cdninstagram.com&_nc_cat=108&_nc_ohc=vusPxlAdk6QAX9OpwAr&edm=AP_V10EBAAAA&ccb=7-4&oh=40048a66a086f19d70d16a7d4ec0c538&oe=614E131E&_nc_sid=4f375e\"\n",
    "\n",
    "# time check\n",
    "start = time.time()\n",
    "\n",
    "# 이미지 요청 및 다운로드\n",
    "urllib.request.urlretrieve(url, \"test.jpg\")\n",
    "\n",
    "# 이미지 다운로드 시간 체크\n",
    "print(time.time() - start)\n",
    "\n",
    "# 저장 된 이미지 확인\n",
    "# img = Image.open(\"test.jpg\")\n"
   ]
  },
  {
   "cell_type": "code",
   "execution_count": null,
   "id": "199f7625-470b-4b6b-8e28-3fde47ae6657",
   "metadata": {},
   "outputs": [],
   "source": []
  }
 ],
 "metadata": {
  "kernelspec": {
   "display_name": "Python Multi",
   "language": "python",
   "name": "multi"
  },
  "language_info": {
   "codemirror_mode": {
    "name": "ipython",
    "version": 3
   },
   "file_extension": ".py",
   "mimetype": "text/x-python",
   "name": "python",
   "nbconvert_exporter": "python",
   "pygments_lexer": "ipython3",
   "version": "3.7.6"
  }
 },
 "nbformat": 4,
 "nbformat_minor": 5
}
