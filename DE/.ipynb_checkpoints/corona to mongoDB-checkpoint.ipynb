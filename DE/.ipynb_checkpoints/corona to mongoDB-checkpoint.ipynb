{
 "cells": [
  {
   "cell_type": "markdown",
   "id": "7bed7400-5e8a-4379-9239-cda270eb474e",
   "metadata": {},
   "source": [
    "# corona to mongoDB"
   ]
  },
  {
   "cell_type": "code",
   "execution_count": 1,
   "id": "f588d4a3-116b-4e07-8f13-5988d1fa7b22",
   "metadata": {},
   "outputs": [],
   "source": [
    "import pyarrow\n",
    "import requests\n",
    "import xmltodict\n",
    "import time\n",
    "import pandas as pd\n",
    "import re\n",
    "from datetime import datetime\n",
    "import warnings\n",
    "warnings.filterwarnings('ignore')\n",
    "\n",
    "from pymongo import MongoClient\n",
    "from pyspark.conf import SparkConf\n",
    "from pyspark.sql import SparkSession\n",
    "from pyspark.sql.types import StructType,StructField, StringType, IntegerType\n",
    "import pyspark.sql.functions as f"
   ]
  },
  {
   "cell_type": "code",
   "execution_count": 2,
   "id": "da0b5538",
   "metadata": {},
   "outputs": [],
   "source": [
    "# spark 연결\n",
    "spark = SparkSession \\\n",
    "    .builder \\\n",
    "    .appName(\"coronaAPI\") \\\n",
    "    .config(\"spark.mongodb.input.uri\", \"mongodb://localhost:27017\") \\\n",
    "    .config(\"spark.mongodb.input.database\",\"ojo_db\") \\\n",
    "    .config(\"spark.mongodb.input.collection\", \"coronaAPI\") \\\n",
    "    .config(\"packages org.mongodb.spark:mongo-spark-connector_2.12:3.0.1\").getOrCreate()\n",
    "sc =spark.sparkContext"
   ]
  },
  {
   "cell_type": "markdown",
   "id": "ffc43f33",
   "metadata": {},
   "source": [
    "### 코로나 지역별 확진자 + 단계"
   ]
  },
  {
   "cell_type": "code",
   "execution_count": 3,
   "id": "ba6f723f",
   "metadata": {},
   "outputs": [],
   "source": [
    "from pyspark.conf import SparkConf \n",
    "from pyspark.sql import SparkSession\n",
    "from pyspark.sql.types import StructType,StructField, StringType, IntegerType\n",
    "import pyspark\n",
    "import pyspark.sql.functions as f \n",
    "from pymongo import MongoClient\n",
    "\n",
    "spark = SparkSession.builder.appName(\"example-pyspark-read-and-write\").getOrCreate()\n",
    "\n",
    "disp = spark.read.parquet(\"hdfs://localhost:9000/data/coronaAPI_2021-09-29\")\n",
    "disp_st = spark.read.parquet(\"hdfs://localhost:9000/data/coronaStage_2021-09-29\")\n",
    "\n",
    "df = disp.select('날짜','area','확진자수')\n",
    "df = df.withColumn('date',f.to_date(df['날짜']))\n",
    "df.date.cast(StringType())\n",
    "df = df.drop('날짜')"
   ]
  },
  {
   "cell_type": "code",
   "execution_count": 4,
   "id": "136a4057",
   "metadata": {},
   "outputs": [
    {
     "name": "stdout",
     "output_type": "stream",
     "text": [
      "+----+--------+----------+\n",
      "|area|확진자수|      date|\n",
      "+----+--------+----------+\n",
      "|제주|    2860|2021-09-29|\n",
      "|경남|   11393|2021-09-29|\n",
      "|경북|    8271|2021-09-29|\n",
      "|전남|    3060|2021-09-29|\n",
      "|전북|    4480|2021-09-29|\n",
      "|충남|    9073|2021-09-29|\n",
      "|충북|    6284|2021-09-29|\n",
      "|강원|    6405|2021-09-29|\n",
      "|경기|   89246|2021-09-29|\n",
      "|세종|    1225|2021-09-29|\n",
      "|울산|    5138|2021-09-29|\n",
      "|대전|    6949|2021-09-29|\n",
      "|광주|    4957|2021-09-29|\n",
      "|인천|   15654|2021-09-29|\n",
      "|대구|   15426|2021-09-29|\n",
      "|부산|   12672|2021-09-29|\n",
      "|서울|   99550|2021-09-29|\n",
      "+----+--------+----------+\n",
      "\n"
     ]
    }
   ],
   "source": [
    "df.show()"
   ]
  },
  {
   "cell_type": "code",
   "execution_count": 5,
   "id": "42050622",
   "metadata": {},
   "outputs": [
    {
     "name": "stdout",
     "output_type": "stream",
     "text": [
      "+----+------+-----------------------------+\n",
      "|Area| Stage|                  Description|\n",
      "+----+------+-----------------------------+\n",
      "|서울|4 단계|  - 서울 전지역 4단계 (21....|\n",
      "|부산|3 단계|  - 부산 전지역 3단계 (21....|\n",
      "|대구|3 단계|  - 대구 전지역 3단계 (21....|\n",
      "|인천|4 단계| - 인천 일부지역 4단계 (21...|\n",
      "|광주|3 단계|  - 광주 전지역 3단계 (21....|\n",
      "|대전|3 단계|  - 대전 전지역 3단계 (21....|\n",
      "|울산|3 단계|  - 울산 전지역 3단계 (21....|\n",
      "|세종|3 단계|  - 세종 전지역 3단계 (21....|\n",
      "|경기|4 단계|  - 경기 전지역 4단계 (21....|\n",
      "|강원|3 단계|- 춘천시, 원주시, 강릉시, ...|\n",
      "|충북|3 단계|  - 충북 전지역 3단계 (21....|\n",
      "|충남|3 단계|  - 충남 전지역 3단계 (21....|\n",
      "|전북|3 단계| - 전북 일부지역 3단계 (21...|\n",
      "|전남|3 단계|  - 전남 전지역 3단계 (21....|\n",
      "|경북|3 단계| - 경북 일부지역 3단계 (21...|\n",
      "|경남|3 단계|  - 경남 전지역 3단계 (21....|\n",
      "|제주|3 단계|  - 제주 전지역 3단계 (21....|\n",
      "+----+------+-----------------------------+\n",
      "\n"
     ]
    }
   ],
   "source": [
    "disp_st = disp_st.drop('__index_level_0__')\n",
    "disp_st.show()"
   ]
  },
  {
   "cell_type": "code",
   "execution_count": 9,
   "id": "fe7d4f50",
   "metadata": {},
   "outputs": [],
   "source": [
    "df = df.withColumnRenamed(\"area\", \"지역\")\n",
    "df = df.withColumnRenamed(\"date\", \"날짜\")\n",
    "disp_st = disp_st.withColumnRenamed(\"Area\", \"지역\")\n",
    "disp_st = disp_st.withColumnRenamed(\"Stage\", \"거리두기단계\")\n",
    "disp_st = disp_st.withColumnRenamed(\"Description\", \"상세내용\")"
   ]
  },
  {
   "cell_type": "code",
   "execution_count": 11,
   "id": "43631fc5",
   "metadata": {},
   "outputs": [],
   "source": [
    "df_corona = df.join(disp_st, on=['지역'], how='left_outer')"
   ]
  },
  {
   "cell_type": "code",
   "execution_count": 12,
   "id": "36268eee",
   "metadata": {},
   "outputs": [
    {
     "name": "stdout",
     "output_type": "stream",
     "text": [
      "+----+--------+----------+------------+-----------------------------+\n",
      "|지역|확진자수|      날짜|거리두기단계|                     상세내용|\n",
      "+----+--------+----------+------------+-----------------------------+\n",
      "|제주|    2860|2021-09-29|      3 단계|  - 제주 전지역 3단계 (21....|\n",
      "|경남|   11393|2021-09-29|      3 단계|  - 경남 전지역 3단계 (21....|\n",
      "|경북|    8271|2021-09-29|      3 단계| - 경북 일부지역 3단계 (21...|\n",
      "|전남|    3060|2021-09-29|      3 단계|  - 전남 전지역 3단계 (21....|\n",
      "|전북|    4480|2021-09-29|      3 단계| - 전북 일부지역 3단계 (21...|\n",
      "|충남|    9073|2021-09-29|      3 단계|  - 충남 전지역 3단계 (21....|\n",
      "|충북|    6284|2021-09-29|      3 단계|  - 충북 전지역 3단계 (21....|\n",
      "|강원|    6405|2021-09-29|      3 단계|- 춘천시, 원주시, 강릉시, ...|\n",
      "|경기|   89246|2021-09-29|      4 단계|  - 경기 전지역 4단계 (21....|\n",
      "|세종|    1225|2021-09-29|      3 단계|  - 세종 전지역 3단계 (21....|\n",
      "|울산|    5138|2021-09-29|      3 단계|  - 울산 전지역 3단계 (21....|\n",
      "|대전|    6949|2021-09-29|      3 단계|  - 대전 전지역 3단계 (21....|\n",
      "|광주|    4957|2021-09-29|      3 단계|  - 광주 전지역 3단계 (21....|\n",
      "|인천|   15654|2021-09-29|      4 단계| - 인천 일부지역 4단계 (21...|\n",
      "|대구|   15426|2021-09-29|      3 단계|  - 대구 전지역 3단계 (21....|\n",
      "|부산|   12672|2021-09-29|      3 단계|  - 부산 전지역 3단계 (21....|\n",
      "|서울|   99550|2021-09-29|      4 단계|  - 서울 전지역 4단계 (21....|\n",
      "+----+--------+----------+------------+-----------------------------+\n",
      "\n"
     ]
    }
   ],
   "source": [
    "df_corona.show()"
   ]
  },
  {
   "cell_type": "code",
   "execution_count": null,
   "id": "df8d4adb",
   "metadata": {},
   "outputs": [],
   "source": [
    "new_df = df_corona.toJSON().map(lambda x: json.loads(x)).collect()\n",
    "new_df"
   ]
  },
  {
   "cell_type": "code",
   "execution_count": null,
   "id": "bcb30931",
   "metadata": {},
   "outputs": [],
   "source": [
    "for i in new_df:\n",
    "    db.corona.insert_one(i)"
   ]
  }
 ],
 "metadata": {
  "kernelspec": {
   "display_name": "Environment (conda_python3)",
   "language": "python",
   "name": "conda_python3"
  },
  "language_info": {
   "codemirror_mode": {
    "name": "ipython",
    "version": 3
   },
   "file_extension": ".py",
   "mimetype": "text/x-python",
   "name": "python",
   "nbconvert_exporter": "python",
   "pygments_lexer": "ipython3",
   "version": "3.6.13"
  }
 },
 "nbformat": 4,
 "nbformat_minor": 5
}
