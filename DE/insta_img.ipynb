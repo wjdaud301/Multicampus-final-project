{
 "cells": [
  {
   "cell_type": "code",
   "execution_count": 1,
   "id": "f69eafca",
   "metadata": {},
   "outputs": [],
   "source": [
    "from urllib.request import Request, urlopen\n",
    "from urllib.parse import urlencode, quote_plus\n",
    "from xml.etree import ElementTree\n",
    "\n",
    "from pyspark.conf import SparkConf\n",
    "from pyspark.sql import SparkSession\n",
    "from pyspark.sql.types import StructType,StructField, StringType, IntegerType\n",
    "from pyspark.sql.functions import array_contains, udf\n",
    "\n",
    "from datetime import datetime, timedelta\n",
    "from pymongo import MongoClient\n",
    "import pandas as pd\n",
    "import json\n",
    "\n",
    "spark = SparkSession \\\n",
    "    .builder \\\n",
    "    .appName(\"multi\") \\\n",
    "    .config(\"spark.mongodb.input.uri\", \"mongodb://localhost:27017\") \\\n",
    "    .config(\"spark.mongodb.input.database\",\"ojo_db\") \\\n",
    "    .config(\"spark.mongodb.input.collection\", \"insta_img\") \\\n",
    "    .config(\"packages org.mongodb.spark:mongo-spark-connector_2.12:3.0.1\") \\\n",
    "    .getOrCreate()\n",
    "sc =spark.sparkContext\n",
    "\n",
    "# pymongo connect\n",
    "client = MongoClient('localhost',27017) # mongodb 27017 port\n",
    "db = client.ojo_db"
   ]
  },
  {
   "cell_type": "code",
   "execution_count": 29,
   "id": "73d9ec90",
   "metadata": {},
   "outputs": [],
   "source": [
    "df = pd.read_csv('/home/ubuntu/DE/img/daily_gamsung.csv')\n",
    "# df = pd.DataFrame(daily_gamsung)"
   ]
  },
  {
   "cell_type": "code",
   "execution_count": 30,
   "id": "d6e52425",
   "metadata": {},
   "outputs": [],
   "source": [
    "# mognodb에 넣기위한 json 형태 변환 후 mongodb collection(corona)로 적재\n",
    "for k in range(len(df)):\n",
    "    tmp ={}\n",
    "    for key,value in zip(df.columns[-2:],df.values[k][-2:]):\n",
    "        tmp[key] = value\n",
    "    db.insta_img.insert_one(tmp)"
   ]
  },
  {
   "cell_type": "code",
   "execution_count": null,
   "id": "8935dce9",
   "metadata": {},
   "outputs": [],
   "source": []
  },
  {
   "cell_type": "code",
   "execution_count": null,
   "id": "a5252c6e",
   "metadata": {},
   "outputs": [],
   "source": []
  }
 ],
 "metadata": {
  "kernelspec": {
   "display_name": "Environment (conda_python3)",
   "language": "python",
   "name": "conda_python3"
  },
  "language_info": {
   "codemirror_mode": {
    "name": "ipython",
    "version": 3
   },
   "file_extension": ".py",
   "mimetype": "text/x-python",
   "name": "python",
   "nbconvert_exporter": "python",
   "pygments_lexer": "ipython3",
   "version": "3.6.13"
  }
 },
 "nbformat": 4,
 "nbformat_minor": 5
}
