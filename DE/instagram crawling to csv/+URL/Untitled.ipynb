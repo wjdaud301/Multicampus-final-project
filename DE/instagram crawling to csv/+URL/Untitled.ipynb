{
 "cells": [
  {
   "cell_type": "code",
   "execution_count": 2,
   "id": "silent-portfolio",
   "metadata": {},
   "outputs": [],
   "source": [
    "import pandas as pd"
   ]
  },
  {
   "cell_type": "code",
   "execution_count": 3,
   "id": "hairy-banana",
   "metadata": {},
   "outputs": [],
   "source": [
    "a = pd.read_csv('daily_gamsung.csv')\n",
    "b = pd.read_csv('gamsung.bnb.csv')\n",
    "c=pd.read_csv('gamsung_curation.csv')\n",
    "d=pd.read_csv('hi.stay.tour.csv')\n",
    "e=pd.read_csv('rest_behappyhere.csv')\n",
    "f=pd.read_csv('sookso.diary.csv')\n",
    "g=pd.read_csv('sookso.hada.csv')\n"
   ]
  },
  {
   "cell_type": "code",
   "execution_count": 19,
   "id": "sought-glossary",
   "metadata": {},
   "outputs": [],
   "source": [
    "b = a.imgUrl[1]"
   ]
  },
  {
   "cell_type": "code",
   "execution_count": 24,
   "id": "present-repeat",
   "metadata": {},
   "outputs": [
    {
     "name": "stdout",
     "output_type": "stream",
     "text": [
      "/home/ubuntu/DE/instagram crawling to csv/+URL\r\n"
     ]
    }
   ],
   "source": [
    "!pwd"
   ]
  },
  {
   "cell_type": "code",
   "execution_count": 25,
   "id": "exotic-token",
   "metadata": {},
   "outputs": [
    {
     "data": {
      "text/plain": [
       "('/home/ubuntu/DE/test.jpg', <http.client.HTTPMessage at 0x7fc136f4acc0>)"
      ]
     },
     "execution_count": 25,
     "metadata": {},
     "output_type": "execute_result"
    }
   ],
   "source": [
    "import urllib.request\n",
    "import time\n",
    "\n",
    "# 다운받을 이미지 url\n",
    "url = b\n",
    "\n",
    "# 이미지 요청 및 다운로드\n",
    "urllib.request.urlretrieve(url, \"/home/ubuntu/DE/test.jpg\")\n",
    "\n",
    "# 저장 된 이미지 확인\n",
    "# img = Image.open(\"test.jpg\")\n"
   ]
  },
  {
   "cell_type": "code",
   "execution_count": 26,
   "id": "senior-estate",
   "metadata": {},
   "outputs": [
    {
     "name": "stdout",
     "output_type": "stream",
     "text": [
      "/home/ubuntu/DE/instagram crawling to csv/+URL\r\n"
     ]
    }
   ],
   "source": [
    "!pwd"
   ]
  },
  {
   "cell_type": "code",
   "execution_count": 14,
   "id": "affecting-respondent",
   "metadata": {},
   "outputs": [
    {
     "data": {
      "text/html": [
       "<div>\n",
       "<style scoped>\n",
       "    .dataframe tbody tr th:only-of-type {\n",
       "        vertical-align: middle;\n",
       "    }\n",
       "\n",
       "    .dataframe tbody tr th {\n",
       "        vertical-align: top;\n",
       "    }\n",
       "\n",
       "    .dataframe thead th {\n",
       "        text-align: right;\n",
       "    }\n",
       "</style>\n",
       "<table border=\"1\" class=\"dataframe\">\n",
       "  <thead>\n",
       "    <tr style=\"text-align: right;\">\n",
       "      <th></th>\n",
       "      <th>Unnamed: 0</th>\n",
       "      <th>content</th>\n",
       "      <th>date</th>\n",
       "      <th>like</th>\n",
       "      <th>place</th>\n",
       "      <th>tags</th>\n",
       "      <th>unix</th>\n",
       "      <th>imgUrl</th>\n",
       "    </tr>\n",
       "  </thead>\n",
       "  <tbody>\n",
       "    <tr>\n",
       "      <th>0</th>\n",
       "      <td>0</td>\n",
       "      <td>경주_소소정경주 고급 스파 한옥 스테이\"소소정\"'소소정'은아름다운 우리의 한옥에 호...</td>\n",
       "      <td>2021-09-28</td>\n",
       "      <td>14</td>\n",
       "      <td>경주 황리단길</td>\n",
       "      <td>['#데일리감성경주', '#데일리감성_경주경상북도로', '#데일리감성_경북—————...</td>\n",
       "      <td>1.632787e+09</td>\n",
       "      <td>https://scontent-ssn1-1.cdninstagram.com/v/t51...</td>\n",
       "    </tr>\n",
       "    <tr>\n",
       "      <th>1</th>\n",
       "      <td>1</td>\n",
       "      <td>충주_서유숙펜션천천히 머물다 가는 집\"서유숙펜션\"'서유숙펜션'은충주에 위치하고 있는...</td>\n",
       "      <td>2021-09-28</td>\n",
       "      <td>19</td>\n",
       "      <td>서유숙펜션</td>\n",
       "      <td>['#데일리감성충주', '#데일리감성_충주', '#데일리감성_충북——————————...</td>\n",
       "      <td>1.632787e+09</td>\n",
       "      <td>https://scontent-ssn1-1.cdninstagram.com/v/t51...</td>\n",
       "    </tr>\n",
       "    <tr>\n",
       "      <th>2</th>\n",
       "      <td>2</td>\n",
       "      <td>밀양_석주재프라이빗한 한옥 숙소\"석주재\"'석주재'는밀양의 프라이빗한 한옥 감성숙소로...</td>\n",
       "      <td>2021-09-27</td>\n",
       "      <td>22</td>\n",
       "      <td>밀양</td>\n",
       "      <td>['#데일리감성밀양', '#데일리감성_밀양경상남도로', '#데일리감성_경남—————...</td>\n",
       "      <td>1.632701e+09</td>\n",
       "      <td>https://scontent-ssn1-1.cdninstagram.com/v/t51...</td>\n",
       "    </tr>\n",
       "    <tr>\n",
       "      <th>3</th>\n",
       "      <td>3</td>\n",
       "      <td>양양_팜11스테이산 속에서의 쉼터\"팜11스테이\"'팜11스테이'는팜11의 가치관과 지...</td>\n",
       "      <td>2021-09-27</td>\n",
       "      <td>22</td>\n",
       "      <td>Yangyang</td>\n",
       "      <td>['#데일리감성양양', '#데일리감성_양양강원도로', '#데일리감성_강원——————...</td>\n",
       "      <td>1.632701e+09</td>\n",
       "      <td>https://scontent-ssn1-1.cdninstagram.com/v/t51...</td>\n",
       "    </tr>\n",
       "    <tr>\n",
       "      <th>4</th>\n",
       "      <td>4</td>\n",
       "      <td>여수_컴온인동남아 이국적 분위기의 감성 숙소\"컴온인\"'컴온인'은동남아의 이국적인 분...</td>\n",
       "      <td>2021-09-26</td>\n",
       "      <td>20</td>\n",
       "      <td>Yeosu</td>\n",
       "      <td>['#데일리감성여수', '#데일리감성_여수', '#데일리감성_전남——————————...</td>\n",
       "      <td>1.632614e+09</td>\n",
       "      <td>https://scontent-ssn1-1.cdninstagram.com/v/t51...</td>\n",
       "    </tr>\n",
       "    <tr>\n",
       "      <th>...</th>\n",
       "      <td>...</td>\n",
       "      <td>...</td>\n",
       "      <td>...</td>\n",
       "      <td>...</td>\n",
       "      <td>...</td>\n",
       "      <td>...</td>\n",
       "      <td>...</td>\n",
       "      <td>...</td>\n",
       "    </tr>\n",
       "    <tr>\n",
       "      <th>71</th>\n",
       "      <td>71</td>\n",
       "      <td>#제주_청수리오즈네@daily_gamsung제주 서쪽 감성숙소\"제주 청수리오즈네\"청...</td>\n",
       "      <td>2021-08-18</td>\n",
       "      <td>13</td>\n",
       "      <td>청수리오즈네</td>\n",
       "      <td>['#제주_청수리오즈네@daily_gamsung제주', '#청수리오즈네', '#제주...</td>\n",
       "      <td>1.629245e+09</td>\n",
       "      <td>https://scontent-ssn1-1.cdninstagram.com/v/t51...</td>\n",
       "    </tr>\n",
       "    <tr>\n",
       "      <th>72</th>\n",
       "      <td>72</td>\n",
       "      <td>#영도_청학소담@daily_gamsung일상에 지친 여행객들에게위안을 주는 공간\"영...</td>\n",
       "      <td>2021-08-18</td>\n",
       "      <td>20</td>\n",
       "      <td>영도</td>\n",
       "      <td>['#영도_청학소담@daily_gamsung일상에', '#청학소담', '#영도청학소...</td>\n",
       "      <td>1.629245e+09</td>\n",
       "      <td>https://scontent-ssn1-1.cdninstagram.com/v/t51...</td>\n",
       "    </tr>\n",
       "    <tr>\n",
       "      <th>73</th>\n",
       "      <td>73</td>\n",
       "      <td>#청주_메이킷슬로우@daily_gamsung오고가는 잔잔한 대화 속채워지는 따뜻한 ...</td>\n",
       "      <td>2021-08-17</td>\n",
       "      <td>14</td>\n",
       "      <td>청주시</td>\n",
       "      <td>['#청주_메이킷슬로우@daily_gamsung오고가는', '#메이킷슬로우', '#...</td>\n",
       "      <td>1.629158e+09</td>\n",
       "      <td>https://scontent-ssn1-1.cdninstagram.com/v/t51...</td>\n",
       "    </tr>\n",
       "    <tr>\n",
       "      <th>74</th>\n",
       "      <td>74</td>\n",
       "      <td>#밀양_제니의집@daily_gamsung할머니집처럼 포근하고감성적인 느낌의 게스트하...</td>\n",
       "      <td>2021-08-17</td>\n",
       "      <td>12</td>\n",
       "      <td>밀양</td>\n",
       "      <td>['#밀양_제니의집@daily_gamsung할머니집처럼', '#제니의집', '#밀양...</td>\n",
       "      <td>1.629158e+09</td>\n",
       "      <td>https://scontent-ssn1-1.cdninstagram.com/v/t51...</td>\n",
       "    </tr>\n",
       "    <tr>\n",
       "      <th>75</th>\n",
       "      <td>75</td>\n",
       "      <td>#전주_안노이에@daily_gamsung1930년대 적산가옥을현대적인 감각으로 재해...</td>\n",
       "      <td>2021-08-16</td>\n",
       "      <td>19</td>\n",
       "      <td>Jeonju</td>\n",
       "      <td>['#전주_안노이에@daily_gamsung1930년대', '#안노이에', '#전주...</td>\n",
       "      <td>1.629072e+09</td>\n",
       "      <td>https://scontent-ssn1-1.cdninstagram.com/v/t51...</td>\n",
       "    </tr>\n",
       "  </tbody>\n",
       "</table>\n",
       "<p>76 rows × 8 columns</p>\n",
       "</div>"
      ],
      "text/plain": [
       "    Unnamed: 0                                            content        date  \\\n",
       "0            0  경주_소소정경주 고급 스파 한옥 스테이\"소소정\"'소소정'은아름다운 우리의 한옥에 호...  2021-09-28   \n",
       "1            1  충주_서유숙펜션천천히 머물다 가는 집\"서유숙펜션\"'서유숙펜션'은충주에 위치하고 있는...  2021-09-28   \n",
       "2            2  밀양_석주재프라이빗한 한옥 숙소\"석주재\"'석주재'는밀양의 프라이빗한 한옥 감성숙소로...  2021-09-27   \n",
       "3            3  양양_팜11스테이산 속에서의 쉼터\"팜11스테이\"'팜11스테이'는팜11의 가치관과 지...  2021-09-27   \n",
       "4            4  여수_컴온인동남아 이국적 분위기의 감성 숙소\"컴온인\"'컴온인'은동남아의 이국적인 분...  2021-09-26   \n",
       "..         ...                                                ...         ...   \n",
       "71          71  #제주_청수리오즈네@daily_gamsung제주 서쪽 감성숙소\"제주 청수리오즈네\"청...  2021-08-18   \n",
       "72          72  #영도_청학소담@daily_gamsung일상에 지친 여행객들에게위안을 주는 공간\"영...  2021-08-18   \n",
       "73          73  #청주_메이킷슬로우@daily_gamsung오고가는 잔잔한 대화 속채워지는 따뜻한 ...  2021-08-17   \n",
       "74          74  #밀양_제니의집@daily_gamsung할머니집처럼 포근하고감성적인 느낌의 게스트하...  2021-08-17   \n",
       "75          75  #전주_안노이에@daily_gamsung1930년대 적산가옥을현대적인 감각으로 재해...  2021-08-16   \n",
       "\n",
       "    like     place                                               tags  \\\n",
       "0     14   경주 황리단길  ['#데일리감성경주', '#데일리감성_경주경상북도로', '#데일리감성_경북—————...   \n",
       "1     19     서유숙펜션  ['#데일리감성충주', '#데일리감성_충주', '#데일리감성_충북——————————...   \n",
       "2     22        밀양  ['#데일리감성밀양', '#데일리감성_밀양경상남도로', '#데일리감성_경남—————...   \n",
       "3     22  Yangyang  ['#데일리감성양양', '#데일리감성_양양강원도로', '#데일리감성_강원——————...   \n",
       "4     20     Yeosu  ['#데일리감성여수', '#데일리감성_여수', '#데일리감성_전남——————————...   \n",
       "..   ...       ...                                                ...   \n",
       "71    13    청수리오즈네  ['#제주_청수리오즈네@daily_gamsung제주', '#청수리오즈네', '#제주...   \n",
       "72    20        영도  ['#영도_청학소담@daily_gamsung일상에', '#청학소담', '#영도청학소...   \n",
       "73    14       청주시  ['#청주_메이킷슬로우@daily_gamsung오고가는', '#메이킷슬로우', '#...   \n",
       "74    12        밀양  ['#밀양_제니의집@daily_gamsung할머니집처럼', '#제니의집', '#밀양...   \n",
       "75    19    Jeonju  ['#전주_안노이에@daily_gamsung1930년대', '#안노이에', '#전주...   \n",
       "\n",
       "            unix                                             imgUrl  \n",
       "0   1.632787e+09  https://scontent-ssn1-1.cdninstagram.com/v/t51...  \n",
       "1   1.632787e+09  https://scontent-ssn1-1.cdninstagram.com/v/t51...  \n",
       "2   1.632701e+09  https://scontent-ssn1-1.cdninstagram.com/v/t51...  \n",
       "3   1.632701e+09  https://scontent-ssn1-1.cdninstagram.com/v/t51...  \n",
       "4   1.632614e+09  https://scontent-ssn1-1.cdninstagram.com/v/t51...  \n",
       "..           ...                                                ...  \n",
       "71  1.629245e+09  https://scontent-ssn1-1.cdninstagram.com/v/t51...  \n",
       "72  1.629245e+09  https://scontent-ssn1-1.cdninstagram.com/v/t51...  \n",
       "73  1.629158e+09  https://scontent-ssn1-1.cdninstagram.com/v/t51...  \n",
       "74  1.629158e+09  https://scontent-ssn1-1.cdninstagram.com/v/t51...  \n",
       "75  1.629072e+09  https://scontent-ssn1-1.cdninstagram.com/v/t51...  \n",
       "\n",
       "[76 rows x 8 columns]"
      ]
     },
     "execution_count": 14,
     "metadata": {},
     "output_type": "execute_result"
    }
   ],
   "source": [
    "a"
   ]
  },
  {
   "cell_type": "code",
   "execution_count": 7,
   "id": "closing-psychology",
   "metadata": {},
   "outputs": [],
   "source": [
    "# a.to_parquet('daily_gamsung.parquet','home/ubuntu/DE')\n",
    "# b.to_parquet('gamsung_bnb.parquet')\n",
    "# c.to_parquet('gamsung_curation.parquet')\n",
    "# d.to_parquet('hi_stay_tour.parquet')\n",
    "# e.to_parquet('rest_behappyhere.parquet')\n",
    "# f.to_parquet('sookso_diary.parquet')\n",
    "# g.to_parquet('sookso_hada.parquet')"
   ]
  },
  {
   "cell_type": "code",
   "execution_count": 2,
   "id": "published-federal",
   "metadata": {},
   "outputs": [
    {
     "name": "stdout",
     "output_type": "stream",
     "text": [
      "/home/ubuntu/DE/instagram crawling to csv/+URL\r\n"
     ]
    }
   ],
   "source": [
    "!pwd"
   ]
  },
  {
   "cell_type": "code",
   "execution_count": null,
   "id": "f92dbd1c",
   "metadata": {},
   "outputs": [],
   "source": []
  }
 ],
 "metadata": {
  "kernelspec": {
   "display_name": "Environment (conda_python3)",
   "language": "python",
   "name": "conda_python3"
  },
  "language_info": {
   "codemirror_mode": {
    "name": "ipython",
    "version": 3
   },
   "file_extension": ".py",
   "mimetype": "text/x-python",
   "name": "python",
   "nbconvert_exporter": "python",
   "pygments_lexer": "ipython3",
   "version": "3.6.13"
  }
 },
 "nbformat": 4,
 "nbformat_minor": 5
}
