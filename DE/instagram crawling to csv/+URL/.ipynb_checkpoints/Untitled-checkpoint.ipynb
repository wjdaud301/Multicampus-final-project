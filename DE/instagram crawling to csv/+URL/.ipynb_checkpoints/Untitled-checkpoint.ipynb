{
 "cells": [
  {
   "cell_type": "code",
   "execution_count": 1,
   "id": "silent-portfolio",
   "metadata": {},
   "outputs": [],
   "source": [
    "import pandas as pd"
   ]
  },
  {
   "cell_type": "code",
   "execution_count": 6,
   "id": "hairy-banana",
   "metadata": {},
   "outputs": [],
   "source": [
    "a = pd.read_csv('daily_gamsung.csv')\n",
    "b = pd.read_csv('gamsung.bnb.csv')\n",
    "c=pd.read_csv('gamsung_curation.csv')\n",
    "d=pd.read_csv('hi.stay.tour.csv')\n",
    "e=pd.read_csv('rest_behappyhere.csv')\n",
    "f=pd.read_csv('sookso.diary.csv')\n",
    "g=pd.read_csv('sookso.hada.csv')\n"
   ]
  },
  {
   "cell_type": "code",
   "execution_count": 7,
   "id": "closing-psychology",
   "metadata": {},
   "outputs": [],
   "source": [
    "a.to_parquet('daily_gamsung.parquet','home/ubuntu/DE')\n",
    "b.to_parquet('gamsung_bnb.parquet')\n",
    "c.to_parquet('gamsung_curation.parquet')\n",
    "d.to_parquet('hi_stay_tour.parquet')\n",
    "e.to_parquet('rest_behappyhere.parquet')\n",
    "f.to_parquet('sookso_diary.parquet')\n",
    "g.to_parquet('sookso_hada.parquet')"
   ]
  },
  {
   "cell_type": "code",
   "execution_count": 2,
   "id": "published-federal",
   "metadata": {},
   "outputs": [
    {
     "name": "stdout",
     "output_type": "stream",
     "text": [
      "/home/ubuntu/DE/instagram crawling to csv/+URL\r\n"
     ]
    }
   ],
   "source": [
    "!pwd"
   ]
  },
  {
   "cell_type": "code",
   "execution_count": null,
   "id": "f92dbd1c",
   "metadata": {},
   "outputs": [],
   "source": []
  }
 ],
 "metadata": {
  "kernelspec": {
   "display_name": "Environment (conda_python3)",
   "language": "python",
   "name": "conda_python3"
  },
  "language_info": {
   "codemirror_mode": {
    "name": "ipython",
    "version": 3
   },
   "file_extension": ".py",
   "mimetype": "text/x-python",
   "name": "python",
   "nbconvert_exporter": "python",
   "pygments_lexer": "ipython3",
   "version": "3.6.13"
  }
 },
 "nbformat": 4,
 "nbformat_minor": 5
}
