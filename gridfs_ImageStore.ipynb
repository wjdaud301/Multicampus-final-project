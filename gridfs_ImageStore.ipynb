{
 "cells": [
  {
   "cell_type": "code",
   "execution_count": null,
   "id": "5b68066f-3559-45f8-b409-8ab9c14ae54c",
   "metadata": {},
   "outputs": [],
   "source": [
    "from pymongo import MongoClient\n",
    "import gridfs\n",
    "\n",
    "def mongo_conn():\n",
    "    try:\n",
    "        conn = MongoClinet(host='127.0.0.1',port=27017)\n",
    "        print('MongoDB connected', conn)\n",
    "        return conn.grid_file\n",
    "    except Exception as e:\n",
    "        print('error in mongo connection:',e)\n",
    "\n",
    "# db 저장하기\n",
    "db = mongo_conn()\n",
    "name = 'book.pdf'\n",
    "file_location = '/home/ubuntu/..'+name\n",
    "file_data = open(file_location, 'rb')\n",
    "data = file_data.read()\n",
    "fs = gridfs.GridFS(db)\n",
    "fs.put(data, filename = name)\n",
    "print('upload complete')\n",
    "\n",
    "data = db.fs.files.find_one({'filename':name})\n",
    "my_id = data['_id']\n",
    "outputdata = fs.get(my_id).read()\n",
    "download_location = '/home/ubuntu..'+name\n",
    "output.write(outputdata)\n",
    "output.close()\n",
    "print('download complete')"
   ]
  }
 ],
 "metadata": {
  "kernelspec": {
   "display_name": "Python Multi",
   "language": "python",
   "name": "multi"
  },
  "language_info": {
   "codemirror_mode": {
    "name": "ipython",
    "version": 3
   },
   "file_extension": ".py",
   "mimetype": "text/x-python",
   "name": "python",
   "nbconvert_exporter": "python",
   "pygments_lexer": "ipython3",
   "version": "3.7.6"
  }
 },
 "nbformat": 4,
 "nbformat_minor": 5
}
