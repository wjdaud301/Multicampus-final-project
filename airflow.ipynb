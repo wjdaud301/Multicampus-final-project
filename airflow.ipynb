{
 "cells": [
  {
   "cell_type": "markdown",
   "id": "9b2e1915-c686-4a07-ab04-ad8192c90601",
   "metadata": {},
   "source": [
    "## Pyspark sample code on airflow"
   ]
  },
  {
   "cell_type": "code",
   "execution_count": 9,
   "id": "01ae7281-7822-45ec-b242-73576abc9507",
   "metadata": {},
   "outputs": [
    {
     "data": {
      "text/plain": [
       "'C:\\\\jm\\\\Django'"
      ]
     },
     "execution_count": 9,
     "metadata": {},
     "output_type": "execute_result"
    }
   ],
   "source": [
    "import os.path\n",
    "os.path.normpath('C:\\\\Users\\\\..\\\\jm\\\\.\\\\Django')"
   ]
  },
  {
   "cell_type": "code",
   "execution_count": null,
   "id": "6c0de8dc-b739-4043-a536-97c2bc72394c",
   "metadata": {},
   "outputs": [],
   "source": [
    "from airflow import DAG\n",
    "from airflow.operators.bash_operator import BashOperator\n",
    "from airflow.operators.python_operator import PythonOperator\n",
    "from datetime import datetime, timedelta\n",
    "import os\n",
    "from urllib.request import urlretrieve\n",
    "\n",
    "\n",
    "default_args = {\n",
    "    'owner': 'airflow',\n",
    "    'depends_on_past': False,\n",
    "    'start_date': datetime(2017, 11, 20),\n",
    "    'email': ['airflow@airflow.com'],\n",
    "    'email_on_failure': False,\n",
    "    'email_on_retry': False,\n",
    "    'retries': 1,\n",
    "    'retry_delay': timedelta(minutes=1),\n",
    "}\n",
    "\n",
    "dag = DAG(\n",
    "    'spark-test', default_args=default_args, schedule_interval=\"* * * * *\")\n",
    "\n",
    "\n",
    "def data_download():\n",
    "    # 인터넷에 있는 데이터 다운로드\n",
    "    url = (\"http://samplecsvs.s3.amazonaws.com/Sacramentorealestatetransactions.csv\")    \n",
    "    local_filename = os.path.basename(url)\n",
    "    if not os.path.exists(local_filename):\n",
    "        print(\"Downloading datasets\")\n",
    "        urlretrieve(url, local_filename)\n",
    "\n",
    "\n",
    "def spark_job():\n",
    "    import pyspark\n",
    "    sc = pyspark.SparkContext()\n",
    "    text_file = sc.textFile('Sacramentorealestatetransactions.csv')\n",
    "    counts = text_file.flatMap(lambda line: line.split(\" \")) \\\n",
    "                .map(lambda word: (word, 1)) \\\n",
    "                .reduceByKey(lambda a, b: a + b)\n",
    "    f = open('/Users/hyundai/airflow/results/count_result.txt', 'w')\n",
    "    f.write(str(counts.collect()))\n",
    "    f.close()\n",
    "\n",
    "data_download = PythonOperator(\n",
    "    task_id='data_download',\n",
    "    python_callable=data_download,\n",
    "    dag=dag)\n",
    "\n",
    "\n",
    "spark_job = PythonOperator(\n",
    "    task_id='spark_job',\n",
    "    python_callable=spark_job,\n",
    "    queue=\n",
    "    dag=dag)\n",
    "\n",
    "sleep = BashOperator(\n",
    "    task_id='sleep30',\n",
    "    bash_command=\"sleep 30\",\n",
    "    retries=3,\n",
    "    dag=dag)\n",
    "\n",
    "spark_job.set_upstream(data_download)\n",
    "sleep.set_upstream(data_download)"
   ]
  }
 ],
 "metadata": {
  "kernelspec": {
   "display_name": "Python Multi",
   "language": "python",
   "name": "multi"
  },
  "language_info": {
   "codemirror_mode": {
    "name": "ipython",
    "version": 3
   },
   "file_extension": ".py",
   "mimetype": "text/x-python",
   "name": "python",
   "nbconvert_exporter": "python",
   "pygments_lexer": "ipython3",
   "version": "3.7.6"
  }
 },
 "nbformat": 4,
 "nbformat_minor": 5
}
